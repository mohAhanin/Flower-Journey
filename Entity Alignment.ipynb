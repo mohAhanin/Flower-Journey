{
 "cells": [
  {
   "cell_type": "code",
   "execution_count": 6,
   "id": "674c6cea",
   "metadata": {},
   "outputs": [
    {
     "name": "stdout",
     "output_type": "stream",
     "text": [
      "to_hash:  catSALT123\n",
      "hash_object:  <sha256 _hashlib.HASH object @ 0x00000239B03DA230>\n",
      "Hash of 'cat' with salt is:\n",
      "efec3363b05e4b7b05e3a0e74d2cfeace407f61726ed4b523e51522c8a23ea80\n"
     ]
    }
   ],
   "source": [
    "import hashlib\n",
    "\n",
    "text = \"cat\"\n",
    "salt = \"SALT123\"\n",
    "to_hash = text + salt\n",
    "print(\"to_hash: \", to_hash)\n",
    "\n",
    "hash_object = hashlib.sha256(to_hash.encode())\n",
    "hex_dig = hash_object.hexdigest()\n",
    "print('hash_object: ', hash_object)\n",
    "print(f\"Hash of '{text}' with salt is:\\n{hex_dig}\")"
   ]
  },
  {
   "cell_type": "code",
   "execution_count": 9,
   "id": "730c772f",
   "metadata": {},
   "outputs": [],
   "source": [
    "# Shared salt (must be agreed upon securely)\n",
    "salt = \"MY_SECRET_SALT\"\n",
    "\n",
    "# Sample user IDs for Bank A and Hospital B\n",
    "ids_A = ['U001', 'U002', 'U003', 'U004']\n",
    "ids_B = ['U003', 'U004', 'U005', 'U006']\n"
   ]
  },
  {
   "cell_type": "code",
   "execution_count": 10,
   "id": "74a24521",
   "metadata": {},
   "outputs": [],
   "source": [
    "# Function to hash IDs with the shared salt\n",
    "def hash_ids(id_list, salt):\n",
    "    return {  # using a dict to keep track of which hash came from which ID\n",
    "        hashlib.sha256((uid + salt).encode()).hexdigest(): uid\n",
    "        for uid in id_list\n",
    "    }"
   ]
  },
  {
   "cell_type": "code",
   "execution_count": 11,
   "id": "1e85b9b9",
   "metadata": {},
   "outputs": [],
   "source": [
    "# Each party hashes their own IDs\n",
    "hashed_A = hash_ids(ids_A, salt)\n",
    "hashed_B = hash_ids(ids_B, salt)"
   ]
  },
  {
   "cell_type": "code",
   "execution_count": 12,
   "id": "f079c749",
   "metadata": {},
   "outputs": [],
   "source": [
    "# Find common hashed values (intersection)\n",
    "common_hashes = set(hashed_A.keys()) & set(hashed_B.keys())"
   ]
  },
  {
   "cell_type": "code",
   "execution_count": 13,
   "id": "825e2f05",
   "metadata": {},
   "outputs": [],
   "source": [
    "# Retrieve original aligned user IDs\n",
    "aligned_ids_A = [hashed_A[h] for h in common_hashes]\n",
    "aligned_ids_B = [hashed_B[h] for h in common_hashes]"
   ]
  },
  {
   "cell_type": "code",
   "execution_count": 14,
   "id": "2c399457",
   "metadata": {},
   "outputs": [
    {
     "name": "stdout",
     "output_type": "stream",
     "text": [
      "🔐 Hashed IDs from Bank A:\n",
      "U001 → 87dc074992...\n",
      "U002 → b7a73be4e3...\n",
      "U003 → cf936b5ce9...\n",
      "U004 → f3dbe8f23e...\n",
      "\n",
      "🔐 Hashed IDs from Hospital B:\n",
      "U003 → cf936b5ce9...\n",
      "U004 → f3dbe8f23e...\n",
      "U005 → 8d5366e050...\n",
      "U006 → 4fcfefa50e...\n",
      "\n",
      "✅ Common Users (Entity Alignment Result):\n",
      "Bank A: ['U003', 'U004']\n",
      "Hospital B: ['U003', 'U004']\n"
     ]
    }
   ],
   "source": [
    "# Output results\n",
    "print(\"🔐 Hashed IDs from Bank A:\")\n",
    "for h, uid in hashed_A.items():\n",
    "    print(f\"{uid} → {h[:10]}...\")\n",
    "\n",
    "print(\"\\n🔐 Hashed IDs from Hospital B:\")\n",
    "for h, uid in hashed_B.items():\n",
    "    print(f\"{uid} → {h[:10]}...\")\n",
    "\n",
    "print(\"\\n✅ Common Users (Entity Alignment Result):\")\n",
    "print(\"Bank A:\", aligned_ids_A)\n",
    "print(\"Hospital B:\", aligned_ids_B)\n"
   ]
  },
  {
   "cell_type": "code",
   "execution_count": null,
   "id": "552033d6",
   "metadata": {},
   "outputs": [],
   "source": []
  }
 ],
 "metadata": {
  "kernelspec": {
   "display_name": "Python 3 (ipykernel)",
   "language": "python",
   "name": "python3"
  },
  "language_info": {
   "codemirror_mode": {
    "name": "ipython",
    "version": 3
   },
   "file_extension": ".py",
   "mimetype": "text/x-python",
   "name": "python",
   "nbconvert_exporter": "python",
   "pygments_lexer": "ipython3",
   "version": "3.11.3"
  }
 },
 "nbformat": 4,
 "nbformat_minor": 5
}
