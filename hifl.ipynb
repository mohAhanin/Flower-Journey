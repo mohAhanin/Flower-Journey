{
  "cells": [
    {
      "cell_type": "code",
      "source": [
        "!pip install -q flwr[simulation] flwr-datasets[vision] torch torchvision"
      ],
      "metadata": {
        "id": "XvFq13PiK4a1"
      },
      "execution_count": 1,
      "outputs": []
    },
    {
      "cell_type": "code",
      "source": [
        "from collections import OrderedDict\n",
        "from typing import Dict, List, Optional, Tuple, Union\n",
        "import numpy as np\n",
        "import torch\n",
        "import torch.nn as nn\n",
        "import torch.nn.functional as F\n",
        "import torchvision.transforms as transforms\n",
        "from torch.utils.data import DataLoader\n",
        "import random\n",
        "\n",
        "import flwr\n",
        "from flwr.client import Client, ClientApp, NumPyClient\n",
        "from flwr.server import ServerApp, ServerConfig, ServerAppComponents\n",
        "from flwr.server.strategy import FedAvg\n",
        "from flwr.common import (\n",
        "    FitRes, EvaluateRes, Parameters, Scalar,\n",
        "    parameters_to_ndarrays, ndarrays_to_parameters,\n",
        "    Context\n",
        ")\n",
        "from flwr.simulation import run_simulation\n",
        "from flwr_datasets import FederatedDataset"
      ],
      "metadata": {
        "id": "taZ_kYpTK7c0"
      },
      "execution_count": 2,
      "outputs": []
    },
    {
      "cell_type": "code",
      "source": [
        "DEVICE = torch.device(\"cpu\")  # Use \"cuda\" if available\n",
        "print(f\"Training on {DEVICE}\")\n",
        "print(f\"Flower {flwr.__version__} / PyTorch {torch.__version__}\")"
      ],
      "metadata": {
        "colab": {
          "base_uri": "https://localhost:8080/"
        },
        "id": "I7IO-C-2LBrM",
        "outputId": "94a7ce45-c389-467a-8742-ae8f71758b9d"
      },
      "execution_count": 3,
      "outputs": [
        {
          "output_type": "stream",
          "name": "stdout",
          "text": [
            "Training on cpu\n",
            "Flower 1.18.0 / PyTorch 2.6.0+cu124\n"
          ]
        }
      ]
    },
    {
      "cell_type": "code",
      "source": [
        "# Hierarchical FL Configuration\n",
        "NUM_EDGE_SERVERS = 2      # Number of edge servers\n",
        "CLIENTS_PER_EDGE = 2      # Clients per edge server\n",
        "TOTAL_CLIENTS = NUM_EDGE_SERVERS * CLIENTS_PER_EDGE\n",
        "BATCH_SIZE = 32\n",
        "EDGE_SERVER_ROUNDS = 2    # Local rounds at edge server before global aggregation"
      ],
      "metadata": {
        "id": "27MbuYFLLFh1"
      },
      "execution_count": 4,
      "outputs": []
    },
    {
      "cell_type": "code",
      "source": [
        "class Net(nn.Module):\n",
        "    \"\"\"Simple CNN for CIFAR-10\"\"\"\n",
        "    def __init__(self) -> None:\n",
        "        super(Net, self).__init__()\n",
        "        self.conv1 = nn.Conv2d(3, 6, 5)\n",
        "        self.pool = nn.MaxPool2d(2, 2)\n",
        "        self.conv2 = nn.Conv2d(6, 16, 5)\n",
        "        self.fc1 = nn.Linear(16 * 5 * 5, 120)\n",
        "        self.fc2 = nn.Linear(120, 84)\n",
        "        self.fc3 = nn.Linear(84, 10)\n",
        "\n",
        "    def forward(self, x: torch.Tensor) -> torch.Tensor:\n",
        "        x = self.pool(F.relu(self.conv1(x)))\n",
        "        x = self.pool(F.relu(self.conv2(x)))\n",
        "        x = x.view(-1, 16 * 5 * 5)\n",
        "        x = F.relu(self.fc1(x))\n",
        "        x = F.relu(self.fc2(x))\n",
        "        x = self.fc3(x)\n",
        "        return x"
      ],
      "metadata": {
        "id": "XPy3MzMYLJcu"
      },
      "execution_count": 5,
      "outputs": []
    },
    {
      "cell_type": "code",
      "source": [
        "def get_parameters(net) -> List[np.ndarray]:\n",
        "    \"\"\"Extract model parameters as numpy arrays\"\"\"\n",
        "    return [val.cpu().numpy() for _, val in net.state_dict().items()]\n",
        "\n",
        "def set_parameters(net, parameters: List[np.ndarray]):\n",
        "    \"\"\"Set model parameters from numpy arrays\"\"\"\n",
        "    params_dict = zip(net.state_dict().keys(), parameters)\n",
        "    state_dict = OrderedDict({k: torch.Tensor(v) for k, v in params_dict})\n",
        "    net.load_state_dict(state_dict, strict=True)"
      ],
      "metadata": {
        "id": "-9i_Z4U9LMSV"
      },
      "execution_count": 6,
      "outputs": []
    },
    {
      "cell_type": "code",
      "source": [
        "#  current load_datasets function uses IID partitions of CIFAR-10 training data via the IidPartitioner\n",
        "def load_datasets(partition_id: int, num_partitions: int):\n",
        "    \"\"\"Load and partition CIFAR-10 dataset\"\"\"\n",
        "    fds = FederatedDataset(dataset=\"cifar10\", partitioners={\"train\": num_partitions})\n",
        "    partition = fds.load_partition(partition_id)\n",
        "    partition_train_test = partition.train_test_split(test_size=0.2, seed=42)\n",
        "\n",
        "    pytorch_transforms = transforms.Compose([\n",
        "        transforms.ToTensor(),\n",
        "        transforms.Normalize((0.5, 0.5, 0.5), (0.5, 0.5, 0.5))\n",
        "    ])\n",
        "\n",
        "    def apply_transforms(batch):\n",
        "        batch[\"img\"] = [pytorch_transforms(img) for img in batch[\"img\"]]\n",
        "        return batch\n",
        "\n",
        "    partition_train_test = partition_train_test.with_transform(apply_transforms)\n",
        "    trainloader = DataLoader(partition_train_test[\"train\"], batch_size=BATCH_SIZE, shuffle=True)\n",
        "    valloader = DataLoader(partition_train_test[\"test\"], batch_size=BATCH_SIZE)\n",
        "    testset = fds.load_split(\"test\").with_transform(apply_transforms)\n",
        "    testloader = DataLoader(testset, batch_size=BATCH_SIZE)\n",
        "    return trainloader, valloader, testloader"
      ],
      "metadata": {
        "id": "sh1Mr_AKLPhF"
      },
      "execution_count": 15,
      "outputs": []
    },
    {
      "cell_type": "code",
      "source": [
        "def train(net, trainloader, epochs: int):\n",
        "    \"\"\"Train the network on the training set\"\"\"\n",
        "    criterion = torch.nn.CrossEntropyLoss()\n",
        "    optimizer = torch.optim.Adam(net.parameters(), lr=0.001)\n",
        "    net.train()\n",
        "    for epoch in range(epochs):\n",
        "        correct, total, epoch_loss = 0, 0, 0.0\n",
        "        for batch in trainloader:\n",
        "            images, labels = batch[\"img\"], batch[\"label\"]\n",
        "            images, labels = images.to(DEVICE), labels.to(DEVICE)\n",
        "            optimizer.zero_grad()\n",
        "            outputs = net(images)\n",
        "            loss = criterion(outputs, labels)\n",
        "            loss.backward()\n",
        "            optimizer.step()\n",
        "            # Metrics\n",
        "            epoch_loss += loss\n",
        "            total += labels.size(0)\n",
        "            correct += (torch.max(outputs.data, 1)[1] == labels).sum().item()\n",
        "        epoch_loss /= len(trainloader.dataset)\n",
        "        epoch_acc = correct / total\n",
        "        print(f\"    Epoch {epoch+1}: loss {epoch_loss:.4f}, accuracy {epoch_acc:.4f}\")"
      ],
      "metadata": {
        "id": "2u4YAa8hLR7s"
      },
      "execution_count": 16,
      "outputs": []
    },
    {
      "cell_type": "code",
      "source": [
        "def test(net, testloader):\n",
        "    \"\"\"Evaluate the network on the test set\"\"\"\n",
        "    criterion = torch.nn.CrossEntropyLoss()\n",
        "    correct, total, loss = 0, 0, 0.0\n",
        "    net.eval()\n",
        "    with torch.no_grad():\n",
        "        for batch in testloader:\n",
        "            images, labels = batch[\"img\"], batch[\"label\"]\n",
        "            images, labels = images.to(DEVICE), labels.to(DEVICE)\n",
        "            outputs = net(images)\n",
        "            loss += criterion(outputs, labels).item()\n",
        "            _, predicted = torch.max(outputs.data, 1)\n",
        "            total += labels.size(0)\n",
        "            correct += (predicted == labels).sum().item()\n",
        "    loss /= len(testloader.dataset)\n",
        "    accuracy = correct / total\n",
        "    return loss, accuracy"
      ],
      "metadata": {
        "id": "E3QgixCcLT5U"
      },
      "execution_count": 9,
      "outputs": []
    },
    {
      "cell_type": "code",
      "source": [
        "class EdgeClient(NumPyClient):\n",
        "    \"\"\"\n",
        "    Client that connects to an edge server\n",
        "    \"\"\"\n",
        "    def __init__(self, client_id: int, edge_id: int, net, trainloader, valloader):\n",
        "        self.client_id = client_id\n",
        "        self.edge_id = edge_id\n",
        "        self.net = net\n",
        "        self.trainloader = trainloader\n",
        "        self.valloader = valloader\n",
        "\n",
        "    def get_parameters(self, config):\n",
        "        print(f\"  [Client {self.client_id}@Edge{self.edge_id}] Sending parameters\")\n",
        "        return get_parameters(self.net)\n",
        "\n",
        "    def fit(self, parameters, config):\n",
        "        server_round = config.get(\"server_round\", 1)\n",
        "        local_epochs = config.get(\"local_epochs\", 1)\n",
        "        edge_round = config.get(\"edge_round\", 1)\n",
        "\n",
        "        print(f\"  [Client {self.client_id}@Edge{self.edge_id}] Round {server_round}.{edge_round} - Training {local_epochs} epochs\")\n",
        "\n",
        "        set_parameters(self.net, parameters)\n",
        "        train(self.net, self.trainloader, epochs=local_epochs)\n",
        "\n",
        "        return get_parameters(self.net), len(self.trainloader.dataset), {\n",
        "            \"edge_id\": self.edge_id,\n",
        "            \"client_id\": self.client_id\n",
        "        }\n",
        "\n",
        "    def evaluate(self, parameters, config):\n",
        "        print(f\"  [Client {self.client_id}@Edge{self.edge_id}] Evaluating\")\n",
        "        set_parameters(self.net, parameters)\n",
        "        loss, accuracy = test(self.net, self.valloader)\n",
        "        return float(loss), len(self.valloader.dataset), {\"accuracy\": float(accuracy)}"
      ],
      "metadata": {
        "id": "fHs6H8grLyYl"
      },
      "execution_count": 10,
      "outputs": []
    },
    {
      "cell_type": "code",
      "source": [
        "class EdgeServer(NumPyClient):\n",
        "    \"\"\"\n",
        "    Edge Server that aggregates local clients and communicates with global server\n",
        "    \"\"\"\n",
        "    def __init__(self, edge_id: int, client_apps: List[EdgeClient]):\n",
        "        self.edge_id = edge_id\n",
        "        self.client_apps = client_apps\n",
        "        self.net = Net().to(DEVICE)\n",
        "        self.edge_model_params = None\n",
        "\n",
        "    def get_parameters(self, config):\n",
        "        print(f\"[EdgeServer {self.edge_id}] Sending aggregated model to Global Server\")\n",
        "        if self.edge_model_params is None:\n",
        "            return get_parameters(self.net)\n",
        "        return self.edge_model_params\n",
        "\n",
        "    def fit(self, parameters, config):\n",
        "        \"\"\"\n",
        "        Edge server aggregates its local clients multiple rounds before sending to global server\n",
        "        \"\"\"\n",
        "        server_round = config.get(\"server_round\", 1)\n",
        "        edge_rounds = config.get(\"edge_rounds\", EDGE_SERVER_ROUNDS)\n",
        "        local_epochs = config.get(\"local_epochs\", 1)\n",
        "\n",
        "        print(f\"[EdgeServer {self.edge_id}] Global Round {server_round} - Running {edge_rounds} edge rounds\")\n",
        "\n",
        "        # Initialize with global model\n",
        "        set_parameters(self.net, parameters)\n",
        "        current_params = get_parameters(self.net)\n",
        "\n",
        "        # Run multiple edge aggregation rounds\n",
        "        for edge_round in range(1, edge_rounds + 1):\n",
        "            print(f\"[EdgeServer {self.edge_id}] Edge Round {edge_round}/{edge_rounds}\")\n",
        "\n",
        "            # Simulate client training\n",
        "            client_results = []\n",
        "            client_weights = []\n",
        "\n",
        "            # Each client trains with current edge model\n",
        "            for client in self.client_apps:\n",
        "                edge_config = {\n",
        "                    \"server_round\": server_round,\n",
        "                    \"edge_round\": edge_round,\n",
        "                    \"local_epochs\": local_epochs\n",
        "                }\n",
        "\n",
        "                # Client training\n",
        "                client_params, num_examples, metrics = client.fit(current_params, edge_config)\n",
        "                client_results.append(client_params)\n",
        "                client_weights.append(num_examples)\n",
        "\n",
        "            # Aggregate client models (FedAvg)\n",
        "            if client_results:\n",
        "                current_params = self._federated_average(client_results, client_weights)\n",
        "\n",
        "            print(f\"[EdgeServer {self.edge_id}] Completed edge round {edge_round}\")\n",
        "\n",
        "        # Store final edge model\n",
        "        self.edge_model_params = current_params\n",
        "        total_examples = sum(client_weights) if client_weights else 1\n",
        "\n",
        "        print(f\"[EdgeServer {self.edge_id}] Completed all edge rounds, sending to global server\")\n",
        "\n",
        "        return self.edge_model_params, total_examples, {\n",
        "            \"edge_id\": self.edge_id,\n",
        "            \"num_clients\": len(self.client_apps),\n",
        "            \"edge_rounds_completed\": edge_rounds,\n",
        "            \"total_client_examples\": total_examples\n",
        "        }\n",
        "\n",
        "    def evaluate(self, parameters, config):\n",
        "        \"\"\"Evaluate edge server model\"\"\"\n",
        "        print(f\"[EdgeServer {self.edge_id}] Evaluating edge model\")\n",
        "        set_parameters(self.net, parameters)\n",
        "\n",
        "        # Evaluate on a sample of client validation data\n",
        "        total_loss, total_accuracy, total_samples = 0.0, 0.0, 0\n",
        "\n",
        "        for client in self.client_apps:\n",
        "            loss, accuracy = test(self.net, client.valloader)\n",
        "            samples = len(client.valloader.dataset)\n",
        "            total_loss += loss * samples\n",
        "            total_accuracy += accuracy * samples\n",
        "            total_samples += samples\n",
        "\n",
        "        avg_loss = total_loss / total_samples if total_samples > 0 else 0.0\n",
        "        avg_accuracy = total_accuracy / total_samples if total_samples > 0 else 0.0\n",
        "\n",
        "        return float(avg_loss), total_samples, {\"accuracy\": float(avg_accuracy)}\n",
        "\n",
        "    def _federated_average(self, client_params_list, weights):\n",
        "        \"\"\"Perform federated averaging of client parameters\"\"\"\n",
        "        total_weight = sum(weights)\n",
        "\n",
        "        if total_weight == 0:\n",
        "            return client_params_list[0] if client_params_list else get_parameters(self.net)\n",
        "\n",
        "        # Normalize weights\n",
        "        weights = [w / total_weight for w in weights]\n",
        "\n",
        "        # Initialize averaged parameters\n",
        "        avg_params = []\n",
        "\n",
        "        for layer_idx in range(len(client_params_list[0])):\n",
        "            # Weighted average for this layer\n",
        "            layer_avg = sum(\n",
        "                weight * client_params[layer_idx]\n",
        "                for client_params, weight in zip(client_params_list, weights)\n",
        "            )\n",
        "            avg_params.append(layer_avg)\n",
        "\n",
        "        return avg_params"
      ],
      "metadata": {
        "id": "VliablKdMCN-"
      },
      "execution_count": 11,
      "outputs": []
    },
    {
      "cell_type": "code",
      "source": [
        "class HierarchicalEdgeStrategy(FedAvg):\n",
        "    \"\"\"\n",
        "    Custom strategy for hierarchical FL with edge servers\n",
        "    \"\"\"\n",
        "    def __init__(self, num_edge_servers: int, clients_per_edge: int, **kwargs):\n",
        "        super().__init__(**kwargs)\n",
        "        self.num_edge_servers = num_edge_servers\n",
        "        self.clients_per_edge = clients_per_edge\n",
        "\n",
        "    def aggregate_fit(\n",
        "        self,\n",
        "        server_round: int,\n",
        "        results: List[Tuple[Client, FitRes]],\n",
        "        failures: List[Union[Tuple[Client, FitRes], Tuple[Client, Exception]]],\n",
        "    ) -> Tuple[Optional[Parameters], Dict[str, Scalar]]:\n",
        "        \"\"\"Global aggregation of edge server models\"\"\"\n",
        "\n",
        "        if not results:\n",
        "            return None, {}\n",
        "\n",
        "        print(f\"\\n🌐 [Global Server] Round {server_round}: Aggregating {len(results)} edge servers\")\n",
        "\n",
        "        # Extract edge server results\n",
        "        edge_weights = []\n",
        "        edge_params = []\n",
        "        participating_edges = []\n",
        "\n",
        "        total_examples = 0\n",
        "        for client, fit_res in results:\n",
        "            edge_id = fit_res.metrics.get(\"edge_id\", 0)\n",
        "            num_clients = fit_res.metrics.get(\"num_clients\", 1)\n",
        "            edge_rounds = fit_res.metrics.get(\"edge_rounds_completed\", 1)\n",
        "\n",
        "            participating_edges.append(edge_id)\n",
        "            edge_weights.append(fit_res.num_examples)\n",
        "            edge_params.append(parameters_to_ndarrays(fit_res.parameters))\n",
        "            total_examples += fit_res.num_examples\n",
        "\n",
        "            print(f\"🏢 Edge Server {edge_id}: {fit_res.num_examples} examples from {num_clients} clients ({edge_rounds} edge rounds)\")\n",
        "\n",
        "        if not edge_params:\n",
        "            return None, {}\n",
        "\n",
        "        # Global federated averaging of edge server models\n",
        "        total_weight = sum(edge_weights)\n",
        "        weights = [w / total_weight for w in edge_weights]\n",
        "\n",
        "        global_params = []\n",
        "        for layer_idx in range(len(edge_params[0])):\n",
        "            layer_avg = sum(\n",
        "                weight * edge_params[edge_idx][layer_idx]\n",
        "                for edge_idx, weight in enumerate(weights)\n",
        "            )\n",
        "            global_params.append(layer_avg)\n",
        "\n",
        "        print(f\"🌐 [Global Server] Aggregated {len(participating_edges)} edge servers\")\n",
        "        print(f\"📊 Total examples: {total_examples}\")\n",
        "\n",
        "        return ndarrays_to_parameters(global_params), {\n",
        "            \"participating_edge_servers\": len(participating_edges),\n",
        "            \"total_examples\": total_examples,\n",
        "            \"edge_server_ids\": participating_edges,\n",
        "        }"
      ],
      "metadata": {
        "id": "U3W1-8JyM1se"
      },
      "execution_count": 12,
      "outputs": []
    },
    {
      "cell_type": "code",
      "execution_count": 13,
      "metadata": {
        "colab": {
          "base_uri": "https://localhost:8080/"
        },
        "id": "WQ8msWcmbpKx",
        "outputId": "9cd698dc-e59b-43b8-c633-dbf019b88232"
      },
      "outputs": [
        {
          "output_type": "stream",
          "name": "stdout",
          "text": [
            "\n",
            "🏗️ === Hierarchical FL Architecture ===\n",
            "🏢 Edge Servers: 2\n",
            "📱 Clients per Edge: 2\n",
            "📊 Total Clients: 4\n",
            "🔄 Edge Rounds per Global Round: 2\n",
            "\n",
            "🎯 Architecture Flow:\n",
            "   Global Server ↔ 2 Edge Servers\n",
            "   Each Edge Server ↔ 2 Clients\n",
            "   Edge Servers run 2 local rounds before global aggregation\n",
            "\n",
            "🚀 Starting Client-Edge-Global FL Simulation...\n"
          ]
        }
      ],
      "source": [
        "def client_fn(context: Context) -> Client:\n",
        "    \"\"\"Factory function to create edge servers (not individual clients)\"\"\"\n",
        "    node_id = context.node_id\n",
        "    partition_id = context.node_config[\"partition-id\"]\n",
        "\n",
        "    # Each partition represents an edge server\n",
        "    edge_id = partition_id\n",
        "    print(f\"\\n🏢 Creating Edge Server {edge_id}\")\n",
        "\n",
        "    # Create clients for this edge server\n",
        "    start_client = edge_id * CLIENTS_PER_EDGE\n",
        "    end_client = start_client + CLIENTS_PER_EDGE\n",
        "\n",
        "    edge_clients = []\n",
        "    for client_id in range(start_client, end_client):\n",
        "        print(f\"  📱 Creating Client {client_id} for Edge Server {edge_id}\")\n",
        "        net = Net().to(DEVICE)\n",
        "        trainloader, valloader, _ = load_datasets(client_id, TOTAL_CLIENTS)\n",
        "        client = EdgeClient(client_id, edge_id, net, trainloader, valloader)\n",
        "        edge_clients.append(client)\n",
        "\n",
        "    edge_server = EdgeServer(edge_id, edge_clients)\n",
        "    return edge_server.to_client()\n",
        "\n",
        "def fit_config(server_round: int):\n",
        "    \"\"\"Configuration for each training round\"\"\"\n",
        "    config = {\n",
        "        \"server_round\": server_round,\n",
        "        \"local_epochs\": 2,\n",
        "        \"edge_rounds\": EDGE_SERVER_ROUNDS,\n",
        "    }\n",
        "    return config\n",
        "\n",
        "def evaluate_fn(server_round: int, parameters, config):\n",
        "    \"\"\"Global evaluation function\"\"\"\n",
        "    net = Net().to(DEVICE)\n",
        "    _, _, testloader = load_datasets(0, TOTAL_CLIENTS)\n",
        "    set_parameters(net, parameters)\n",
        "    loss, accuracy = test(net, testloader)\n",
        "\n",
        "    print(f\"🌐 [Global Server] Round {server_round} - Global Test: loss {loss:.4f}, accuracy {accuracy:.4f}\")\n",
        "    return loss, {\"accuracy\": accuracy}\n",
        "\n",
        "def server_fn(context: Context) -> ServerAppComponents:\n",
        "    \"\"\"Create the global server\"\"\"\n",
        "    print(f\"\\n🌐 === Global Server Initialization ===\")\n",
        "\n",
        "    # Initialize global model\n",
        "    net = Net().to(DEVICE)\n",
        "    initial_params = get_parameters(net)\n",
        "\n",
        "    # Create hierarchical strategy\n",
        "    strategy = HierarchicalEdgeStrategy(\n",
        "        num_edge_servers=NUM_EDGE_SERVERS,\n",
        "        clients_per_edge=CLIENTS_PER_EDGE,\n",
        "        fraction_fit=1.0,  # Use all edge servers\n",
        "        fraction_evaluate=1.0,\n",
        "        min_fit_clients=NUM_EDGE_SERVERS,\n",
        "        min_evaluate_clients=NUM_EDGE_SERVERS,\n",
        "        min_available_clients=NUM_EDGE_SERVERS,\n",
        "        initial_parameters=ndarrays_to_parameters(initial_params),\n",
        "        evaluate_fn=evaluate_fn,\n",
        "        on_fit_config_fn=fit_config,\n",
        "    )\n",
        "\n",
        "    config = ServerConfig(num_rounds=3)\n",
        "    return ServerAppComponents(strategy=strategy, config=config)\n",
        "\n",
        "# Create apps\n",
        "client_app = ClientApp(client_fn=client_fn)\n",
        "server_app = ServerApp(server_fn=server_fn)\n",
        "\n",
        "# Configure simulation\n",
        "backend_config = {\"client_resources\": None}\n",
        "if DEVICE.type == \"cuda\":\n",
        "    backend_config = {\"client_resources\": {\"num_gpus\": 1}}\n",
        "\n",
        "print(f\"\\n🏗️ === Hierarchical FL Architecture ===\")\n",
        "print(f\"🏢 Edge Servers: {NUM_EDGE_SERVERS}\")\n",
        "print(f\"📱 Clients per Edge: {CLIENTS_PER_EDGE}\")\n",
        "print(f\"📊 Total Clients: {TOTAL_CLIENTS}\")\n",
        "print(f\"🔄 Edge Rounds per Global Round: {EDGE_SERVER_ROUNDS}\")\n",
        "print(f\"\\n🎯 Architecture Flow:\")\n",
        "print(f\"   Global Server ↔ {NUM_EDGE_SERVERS} Edge Servers\")\n",
        "print(f\"   Each Edge Server ↔ {CLIENTS_PER_EDGE} Clients\")\n",
        "print(f\"   Edge Servers run {EDGE_SERVER_ROUNDS} local rounds before global aggregation\")\n",
        "print(f\"\\n🚀 Starting Client-Edge-Global FL Simulation...\")\n",
        "\n"
      ]
    },
    {
      "cell_type": "code",
      "source": [
        "# Run the hierarchical federated learning simulation\n",
        "# Each supernode represents an edge server that manages multiple clients internally\n",
        "run_simulation(\n",
        "    server_app=server_app,\n",
        "    client_app=client_app,\n",
        "    num_supernodes=NUM_EDGE_SERVERS,  # Edge servers as supernodes\n",
        "    backend_config=backend_config,\n",
        ")"
      ],
      "metadata": {
        "colab": {
          "base_uri": "https://localhost:8080/"
        },
        "id": "xz9B4CkkM8Bt",
        "outputId": "6da39362-b008-4537-e10c-87cdf2a57cf7"
      },
      "execution_count": 14,
      "outputs": [
        {
          "output_type": "stream",
          "name": "stderr",
          "text": [
            "DEBUG:flwr:Asyncio event loop already running.\n",
            "\u001b[92mINFO \u001b[0m:      Starting Flower ServerApp, config: num_rounds=3, no round_timeout\n",
            "\u001b[92mINFO \u001b[0m:      \n"
          ]
        },
        {
          "output_type": "stream",
          "name": "stdout",
          "text": [
            "\n",
            "🌐 === Global Server Initialization ===\n"
          ]
        },
        {
          "output_type": "stream",
          "name": "stderr",
          "text": [
            "\u001b[92mINFO \u001b[0m:      [INIT]\n",
            "\u001b[92mINFO \u001b[0m:      Using initial global parameters provided by strategy\n",
            "\u001b[92mINFO \u001b[0m:      Starting evaluation of initial global parameters\n",
            "/usr/local/lib/python3.11/dist-packages/huggingface_hub/utils/_auth.py:94: UserWarning: \n",
            "The secret `HF_TOKEN` does not exist in your Colab secrets.\n",
            "To authenticate with the Hugging Face Hub, create a token in your settings tab (https://huggingface.co/settings/tokens), set it as secret in your Google Colab and restart your session.\n",
            "You will be able to reuse this secret in all of your notebooks.\n",
            "Please note that authentication is recommended but still optional to access public models or datasets.\n",
            "  warnings.warn(\n",
            "\u001b[92mINFO \u001b[0m:      initial parameters (loss, other metrics): 0.07214174342155456, {'accuracy': 0.1}\n",
            "\u001b[92mINFO \u001b[0m:      \n",
            "\u001b[92mINFO \u001b[0m:      [ROUND 1]\n",
            "\u001b[92mINFO \u001b[0m:      configure_fit: strategy sampled 2 clients (out of 2)\n"
          ]
        },
        {
          "output_type": "stream",
          "name": "stdout",
          "text": [
            "🌐 [Global Server] Round 0 - Global Test: loss 0.0721, accuracy 0.1000\n"
          ]
        },
        {
          "output_type": "stream",
          "name": "stderr",
          "text": [
            "\u001b[36m(pid=17334)\u001b[0m 2025-05-27 14:51:11.753069: E external/local_xla/xla/stream_executor/cuda/cuda_fft.cc:477] Unable to register cuFFT factory: Attempting to register factory for plugin cuFFT when one has already been registered\n",
            "\u001b[36m(pid=17334)\u001b[0m WARNING: All log messages before absl::InitializeLog() is called are written to STDERR\n",
            "\u001b[36m(pid=17334)\u001b[0m E0000 00:00:1748357472.025700   17334 cuda_dnn.cc:8310] Unable to register cuDNN factory: Attempting to register factory for plugin cuDNN when one has already been registered\n",
            "\u001b[36m(pid=17334)\u001b[0m E0000 00:00:1748357472.054921   17334 cuda_blas.cc:1418] Unable to register cuBLAS factory: Attempting to register factory for plugin cuBLAS when one has already been registered\n",
            "\u001b[36m(ClientAppActor pid=17334)\u001b[0m /usr/local/lib/python3.11/dist-packages/jupyter_client/connect.py:28: DeprecationWarning: Jupyter is migrating its paths to use standard platformdirs\n",
            "\u001b[36m(ClientAppActor pid=17334)\u001b[0m given by the platformdirs library.  To remove this warning and\n",
            "\u001b[36m(ClientAppActor pid=17334)\u001b[0m see the appropriate new directories, set the environment variable\n",
            "\u001b[36m(ClientAppActor pid=17334)\u001b[0m `JUPYTER_PLATFORM_DIRS=1` and then run `jupyter --paths`.\n",
            "\u001b[36m(ClientAppActor pid=17334)\u001b[0m The use of platformdirs will be the default in `jupyter_core` v6\n",
            "\u001b[36m(ClientAppActor pid=17334)\u001b[0m   from jupyter_core.paths import jupyter_data_dir, jupyter_runtime_dir, secure_write\n"
          ]
        },
        {
          "output_type": "stream",
          "name": "stdout",
          "text": [
            "\u001b[36m(ClientAppActor pid=17334)\u001b[0m \n",
            "\u001b[36m(ClientAppActor pid=17334)\u001b[0m 🏢 Creating Edge Server 0\n",
            "\u001b[36m(ClientAppActor pid=17334)\u001b[0m   📱 Creating Client 0 for Edge Server 0\n",
            "\u001b[36m(ClientAppActor pid=17334)\u001b[0m   📱 Creating Client 1 for Edge Server 0\n",
            "\u001b[36m(ClientAppActor pid=17334)\u001b[0m [EdgeServer 0] Global Round 1 - Running 2 edge rounds\n",
            "\u001b[36m(ClientAppActor pid=17334)\u001b[0m [EdgeServer 0] Edge Round 1/2\n",
            "\u001b[36m(ClientAppActor pid=17334)\u001b[0m   [Client 0@Edge0] Round 1.1 - Training 2 epochs\n",
            "\u001b[36m(ClientAppActor pid=17334)\u001b[0m     Epoch 1: loss 0.0598, accuracy 0.2884\n",
            "\u001b[36m(ClientAppActor pid=17334)\u001b[0m     Epoch 2: loss 0.0510, accuracy 0.4015\n",
            "\u001b[36m(ClientAppActor pid=17334)\u001b[0m   [Client 1@Edge0] Round 1.1 - Training 2 epochs\n",
            "\u001b[36m(ClientAppActor pid=17334)\u001b[0m     Epoch 1: loss 0.0597, accuracy 0.2872\n",
            "\u001b[36m(ClientAppActor pid=17334)\u001b[0m     Epoch 2: loss 0.0500, accuracy 0.4093\n",
            "\u001b[36m(ClientAppActor pid=17334)\u001b[0m [EdgeServer 0] Completed edge round 1\n",
            "\u001b[36m(ClientAppActor pid=17334)\u001b[0m [EdgeServer 0] Edge Round 2/2\n",
            "\u001b[36m(ClientAppActor pid=17334)\u001b[0m   [Client 0@Edge0] Round 1.2 - Training 2 epochs\n",
            "\u001b[36m(ClientAppActor pid=17334)\u001b[0m     Epoch 1: loss 0.0486, accuracy 0.4376\n",
            "\u001b[36m(ClientAppActor pid=17334)\u001b[0m     Epoch 2: loss 0.0450, accuracy 0.4742\n",
            "\u001b[36m(ClientAppActor pid=17334)\u001b[0m   [Client 1@Edge0] Round 1.2 - Training 2 epochs\n",
            "\u001b[36m(ClientAppActor pid=17334)\u001b[0m     Epoch 1: loss 0.0484, accuracy 0.4349\n",
            "\u001b[36m(ClientAppActor pid=17334)\u001b[0m     Epoch 2: loss 0.0449, accuracy 0.4819\n",
            "\u001b[36m(ClientAppActor pid=17334)\u001b[0m [EdgeServer 0] Completed edge round 2\n",
            "\u001b[36m(ClientAppActor pid=17334)\u001b[0m [EdgeServer 0] Completed all edge rounds, sending to global server\n",
            "\u001b[36m(ClientAppActor pid=17334)\u001b[0m \n",
            "\u001b[36m(ClientAppActor pid=17334)\u001b[0m 🏢 Creating Edge Server 1\n",
            "\u001b[36m(ClientAppActor pid=17334)\u001b[0m   📱 Creating Client 2 for Edge Server 1\n",
            "\u001b[36m(ClientAppActor pid=17334)\u001b[0m   📱 Creating Client 3 for Edge Server 1\n",
            "\u001b[36m(ClientAppActor pid=17334)\u001b[0m [EdgeServer 1] Global Round 1 - Running 2 edge rounds\n",
            "\u001b[36m(ClientAppActor pid=17334)\u001b[0m [EdgeServer 1] Edge Round 1/2\n",
            "\u001b[36m(ClientAppActor pid=17334)\u001b[0m   [Client 2@Edge1] Round 1.1 - Training 2 epochs\n",
            "\u001b[36m(ClientAppActor pid=17334)\u001b[0m     Epoch 1: loss 0.0593, accuracy 0.2862\n",
            "\u001b[36m(ClientAppActor pid=17334)\u001b[0m     Epoch 2: loss 0.0505, accuracy 0.3977\n",
            "\u001b[36m(ClientAppActor pid=17334)\u001b[0m   [Client 3@Edge1] Round 1.1 - Training 2 epochs\n",
            "\u001b[36m(ClientAppActor pid=17334)\u001b[0m     Epoch 1: loss 0.0605, accuracy 0.2944\n",
            "\u001b[36m(ClientAppActor pid=17334)\u001b[0m     Epoch 2: loss 0.0511, accuracy 0.4048\n",
            "\u001b[36m(ClientAppActor pid=17334)\u001b[0m [EdgeServer 1] Completed edge round 1\n",
            "\u001b[36m(ClientAppActor pid=17334)\u001b[0m [EdgeServer 1] Edge Round 2/2\n",
            "\u001b[36m(ClientAppActor pid=17334)\u001b[0m   [Client 2@Edge1] Round 1.2 - Training 2 epochs\n",
            "\u001b[36m(ClientAppActor pid=17334)\u001b[0m     Epoch 1: loss 0.0485, accuracy 0.4225\n",
            "\u001b[36m(ClientAppActor pid=17334)\u001b[0m     Epoch 2: loss 0.0446, accuracy 0.4766\n",
            "\u001b[36m(ClientAppActor pid=17334)\u001b[0m   [Client 3@Edge1] Round 1.2 - Training 2 epochs\n",
            "\u001b[36m(ClientAppActor pid=17334)\u001b[0m     Epoch 1: loss 0.0483, accuracy 0.4412\n"
          ]
        },
        {
          "output_type": "stream",
          "name": "stderr",
          "text": [
            "\u001b[92mINFO \u001b[0m:      aggregate_fit: received 2 results and 0 failures\n"
          ]
        },
        {
          "output_type": "stream",
          "name": "stdout",
          "text": [
            "\n",
            "🌐 [Global Server] Round 1: Aggregating 2 edge servers\n",
            "🏢 Edge Server 0: 20000 examples from 2 clients (2 edge rounds)\n",
            "🏢 Edge Server 1: 20000 examples from 2 clients (2 edge rounds)\n",
            "🌐 [Global Server] Aggregated 2 edge servers\n",
            "📊 Total examples: 40000\n",
            "\u001b[36m(ClientAppActor pid=17334)\u001b[0m     Epoch 2: loss 0.0446, accuracy 0.4810\n",
            "\u001b[36m(ClientAppActor pid=17334)\u001b[0m [EdgeServer 1] Completed edge round 2\n",
            "\u001b[36m(ClientAppActor pid=17334)\u001b[0m [EdgeServer 1] Completed all edge rounds, sending to global server\n"
          ]
        },
        {
          "output_type": "stream",
          "name": "stderr",
          "text": [
            "\u001b[92mINFO \u001b[0m:      fit progress: (1, 0.04608696926236153, {'accuracy': 0.4669}, 160.8811179639997)\n",
            "\u001b[92mINFO \u001b[0m:      configure_evaluate: strategy sampled 2 clients (out of 2)\n"
          ]
        },
        {
          "output_type": "stream",
          "name": "stdout",
          "text": [
            "🌐 [Global Server] Round 1 - Global Test: loss 0.0461, accuracy 0.4669\n",
            "\u001b[36m(ClientAppActor pid=17334)\u001b[0m \n",
            "\u001b[36m(ClientAppActor pid=17334)\u001b[0m 🏢 Creating Edge Server 0\n",
            "\u001b[36m(ClientAppActor pid=17334)\u001b[0m   📱 Creating Client 0 for Edge Server 0\n",
            "\u001b[36m(ClientAppActor pid=17334)\u001b[0m   📱 Creating Client 1 for Edge Server 0\n",
            "\u001b[36m(ClientAppActor pid=17334)\u001b[0m [EdgeServer 0] Evaluating edge model\n",
            "\u001b[36m(ClientAppActor pid=17334)\u001b[0m \n",
            "\u001b[36m(ClientAppActor pid=17334)\u001b[0m 🏢 Creating Edge Server 1\n",
            "\u001b[36m(ClientAppActor pid=17334)\u001b[0m   📱 Creating Client 2 for Edge Server 1\n",
            "\u001b[36m(ClientAppActor pid=17334)\u001b[0m   📱 Creating Client 3 for Edge Server 1\n",
            "\u001b[36m(ClientAppActor pid=17334)\u001b[0m [EdgeServer 1] Evaluating edge model\n"
          ]
        },
        {
          "output_type": "stream",
          "name": "stderr",
          "text": [
            "\u001b[92mINFO \u001b[0m:      aggregate_evaluate: received 2 results and 0 failures\n",
            "\u001b[93mWARNING \u001b[0m:   No evaluate_metrics_aggregation_fn provided\n",
            "\u001b[92mINFO \u001b[0m:      \n",
            "\u001b[92mINFO \u001b[0m:      [ROUND 2]\n",
            "\u001b[92mINFO \u001b[0m:      configure_fit: strategy sampled 2 clients (out of 2)\n"
          ]
        },
        {
          "output_type": "stream",
          "name": "stdout",
          "text": [
            "\u001b[36m(ClientAppActor pid=17334)\u001b[0m \n",
            "\u001b[36m(ClientAppActor pid=17334)\u001b[0m 🏢 Creating Edge Server 0\n",
            "\u001b[36m(ClientAppActor pid=17334)\u001b[0m   📱 Creating Client 0 for Edge Server 0\n",
            "\u001b[36m(ClientAppActor pid=17334)\u001b[0m   📱 Creating Client 1 for Edge Server 0\n",
            "\u001b[36m(ClientAppActor pid=17334)\u001b[0m [EdgeServer 0] Global Round 2 - Running 2 edge rounds\n",
            "\u001b[36m(ClientAppActor pid=17334)\u001b[0m [EdgeServer 0] Edge Round 1/2\n",
            "\u001b[36m(ClientAppActor pid=17334)\u001b[0m   [Client 0@Edge0] Round 2.1 - Training 2 epochs\n",
            "\u001b[36m(ClientAppActor pid=17334)\u001b[0m     Epoch 1: loss 0.0448, accuracy 0.4819\n",
            "\u001b[36m(ClientAppActor pid=17334)\u001b[0m     Epoch 2: loss 0.0419, accuracy 0.5168\n",
            "\u001b[36m(ClientAppActor pid=17334)\u001b[0m   [Client 1@Edge0] Round 2.1 - Training 2 epochs\n",
            "\u001b[36m(ClientAppActor pid=17334)\u001b[0m     Epoch 1: loss 0.0448, accuracy 0.4773\n",
            "\u001b[36m(ClientAppActor pid=17334)\u001b[0m     Epoch 2: loss 0.0418, accuracy 0.5154\n",
            "\u001b[36m(ClientAppActor pid=17334)\u001b[0m [EdgeServer 0] Completed edge round 1\n",
            "\u001b[36m(ClientAppActor pid=17334)\u001b[0m [EdgeServer 0] Edge Round 2/2\n",
            "\u001b[36m(ClientAppActor pid=17334)\u001b[0m   [Client 0@Edge0] Round 2.2 - Training 2 epochs\n",
            "\u001b[36m(ClientAppActor pid=17334)\u001b[0m     Epoch 1: loss 0.0408, accuracy 0.5283\n",
            "\u001b[36m(ClientAppActor pid=17334)\u001b[0m     Epoch 2: loss 0.0385, accuracy 0.5596\n",
            "\u001b[36m(ClientAppActor pid=17334)\u001b[0m   [Client 1@Edge0] Round 2.2 - Training 2 epochs\n",
            "\u001b[36m(ClientAppActor pid=17334)\u001b[0m     Epoch 1: loss 0.0408, accuracy 0.5333\n",
            "\u001b[36m(ClientAppActor pid=17334)\u001b[0m     Epoch 2: loss 0.0382, accuracy 0.5639\n",
            "\u001b[36m(ClientAppActor pid=17334)\u001b[0m [EdgeServer 0] Completed edge round 2\n",
            "\u001b[36m(ClientAppActor pid=17334)\u001b[0m [EdgeServer 0] Completed all edge rounds, sending to global server\n",
            "\u001b[36m(ClientAppActor pid=17334)\u001b[0m \n",
            "\u001b[36m(ClientAppActor pid=17334)\u001b[0m 🏢 Creating Edge Server 1\n",
            "\u001b[36m(ClientAppActor pid=17334)\u001b[0m   📱 Creating Client 2 for Edge Server 1\n",
            "\u001b[36m(ClientAppActor pid=17334)\u001b[0m   📱 Creating Client 3 for Edge Server 1\n",
            "\u001b[36m(ClientAppActor pid=17334)\u001b[0m [EdgeServer 1] Global Round 2 - Running 2 edge rounds\n",
            "\u001b[36m(ClientAppActor pid=17334)\u001b[0m [EdgeServer 1] Edge Round 1/2\n",
            "\u001b[36m(ClientAppActor pid=17334)\u001b[0m   [Client 2@Edge1] Round 2.1 - Training 2 epochs\n",
            "\u001b[36m(ClientAppActor pid=17334)\u001b[0m     Epoch 1: loss 0.0449, accuracy 0.4669\n",
            "\u001b[36m(ClientAppActor pid=17334)\u001b[0m     Epoch 2: loss 0.0421, accuracy 0.5091\n",
            "\u001b[36m(ClientAppActor pid=17334)\u001b[0m   [Client 3@Edge1] Round 2.1 - Training 2 epochs\n",
            "\u001b[36m(ClientAppActor pid=17334)\u001b[0m     Epoch 1: loss 0.0452, accuracy 0.4809\n",
            "\u001b[36m(ClientAppActor pid=17334)\u001b[0m     Epoch 2: loss 0.0420, accuracy 0.5112\n",
            "\u001b[36m(ClientAppActor pid=17334)\u001b[0m \n",
            "\u001b[36m(ClientAppActor pid=17334)\u001b[0m [EdgeServer 1] Completed edge round 1\n",
            "\u001b[36m(ClientAppActor pid=17334)\u001b[0m [EdgeServer 1] Edge Round 2/2\n",
            "\u001b[36m(ClientAppActor pid=17334)\u001b[0m   [Client 2@Edge1] Round 2.2 - Training 2 epochs\n",
            "\u001b[36m(ClientAppActor pid=17334)\u001b[0m     Epoch 1: loss 0.0409, accuracy 0.5230\n",
            "\u001b[36m(ClientAppActor pid=17334)\u001b[0m     Epoch 2: loss 0.0381, accuracy 0.5607\n",
            "\u001b[36m(ClientAppActor pid=17334)\u001b[0m   [Client 3@Edge1] Round 2.2 - Training 2 epochs\n",
            "\u001b[36m(ClientAppActor pid=17334)\u001b[0m     Epoch 1: loss 0.0407, accuracy 0.5323\n"
          ]
        },
        {
          "output_type": "stream",
          "name": "stderr",
          "text": [
            "\u001b[92mINFO \u001b[0m:      aggregate_fit: received 2 results and 0 failures\n"
          ]
        },
        {
          "output_type": "stream",
          "name": "stdout",
          "text": [
            "\n",
            "🌐 [Global Server] Round 2: Aggregating 2 edge servers\n",
            "🏢 Edge Server 1: 20000 examples from 2 clients (2 edge rounds)\n",
            "🏢 Edge Server 0: 20000 examples from 2 clients (2 edge rounds)\n",
            "🌐 [Global Server] Aggregated 2 edge servers\n",
            "📊 Total examples: 40000\n",
            "\u001b[36m(ClientAppActor pid=17334)\u001b[0m     Epoch 2: loss 0.0381, accuracy 0.5666\n",
            "\u001b[36m(ClientAppActor pid=17334)\u001b[0m [EdgeServer 1] Completed edge round 2\n",
            "\u001b[36m(ClientAppActor pid=17334)\u001b[0m [EdgeServer 1] Completed all edge rounds, sending to global server\n"
          ]
        },
        {
          "output_type": "stream",
          "name": "stderr",
          "text": [
            "\u001b[92mINFO \u001b[0m:      fit progress: (2, 0.03914911552071571, {'accuracy': 0.5466}, 313.5368450340002)\n",
            "\u001b[92mINFO \u001b[0m:      configure_evaluate: strategy sampled 2 clients (out of 2)\n"
          ]
        },
        {
          "output_type": "stream",
          "name": "stdout",
          "text": [
            "🌐 [Global Server] Round 2 - Global Test: loss 0.0391, accuracy 0.5466\n",
            "\u001b[36m(ClientAppActor pid=17334)\u001b[0m \n",
            "\u001b[36m(ClientAppActor pid=17334)\u001b[0m 🏢 Creating Edge Server 0\n",
            "\u001b[36m(ClientAppActor pid=17334)\u001b[0m   📱 Creating Client 0 for Edge Server 0\n",
            "\u001b[36m(ClientAppActor pid=17334)\u001b[0m   📱 Creating Client 1 for Edge Server 0\n",
            "\u001b[36m(ClientAppActor pid=17334)\u001b[0m [EdgeServer 0] Evaluating edge model\n",
            "\u001b[36m(ClientAppActor pid=17334)\u001b[0m \n",
            "\u001b[36m(ClientAppActor pid=17334)\u001b[0m 🏢 Creating Edge Server 1\n",
            "\u001b[36m(ClientAppActor pid=17334)\u001b[0m   📱 Creating Client 2 for Edge Server 1\n",
            "\u001b[36m(ClientAppActor pid=17334)\u001b[0m   📱 Creating Client 3 for Edge Server 1\n",
            "\u001b[36m(ClientAppActor pid=17334)\u001b[0m [EdgeServer 1] Evaluating edge model\n"
          ]
        },
        {
          "output_type": "stream",
          "name": "stderr",
          "text": [
            "\u001b[92mINFO \u001b[0m:      aggregate_evaluate: received 2 results and 0 failures\n",
            "\u001b[92mINFO \u001b[0m:      \n",
            "\u001b[92mINFO \u001b[0m:      [ROUND 3]\n",
            "\u001b[92mINFO \u001b[0m:      configure_fit: strategy sampled 2 clients (out of 2)\n"
          ]
        },
        {
          "output_type": "stream",
          "name": "stdout",
          "text": [
            "\u001b[36m(ClientAppActor pid=17334)\u001b[0m \n",
            "\u001b[36m(ClientAppActor pid=17334)\u001b[0m 🏢 Creating Edge Server 0\n",
            "\u001b[36m(ClientAppActor pid=17334)\u001b[0m   📱 Creating Client 0 for Edge Server 0\n",
            "\u001b[36m(ClientAppActor pid=17334)\u001b[0m   📱 Creating Client 1 for Edge Server 0\n",
            "\u001b[36m(ClientAppActor pid=17334)\u001b[0m [EdgeServer 0] Global Round 3 - Running 2 edge rounds\n",
            "\u001b[36m(ClientAppActor pid=17334)\u001b[0m [EdgeServer 0] Edge Round 1/2\n",
            "\u001b[36m(ClientAppActor pid=17334)\u001b[0m   [Client 0@Edge0] Round 3.1 - Training 2 epochs\n",
            "\u001b[36m(ClientAppActor pid=17334)\u001b[0m     Epoch 1: loss 0.0392, accuracy 0.5528\n",
            "\u001b[36m(ClientAppActor pid=17334)\u001b[0m     Epoch 2: loss 0.0363, accuracy 0.5920\n",
            "\u001b[36m(ClientAppActor pid=17334)\u001b[0m   [Client 1@Edge0] Round 3.1 - Training 2 epochs\n",
            "\u001b[36m(ClientAppActor pid=17334)\u001b[0m     Epoch 1: loss 0.0389, accuracy 0.5553\n",
            "\u001b[36m(ClientAppActor pid=17334)\u001b[0m     Epoch 2: loss 0.0361, accuracy 0.5839\n",
            "\u001b[36m(ClientAppActor pid=17334)\u001b[0m [EdgeServer 0] Completed edge round 1\n",
            "\u001b[36m(ClientAppActor pid=17334)\u001b[0m [EdgeServer 0] Edge Round 2/2\n",
            "\u001b[36m(ClientAppActor pid=17334)\u001b[0m   [Client 0@Edge0] Round 3.2 - Training 2 epochs\n",
            "\u001b[36m(ClientAppActor pid=17334)\u001b[0m     Epoch 1: loss 0.0362, accuracy 0.5904\n",
            "\u001b[36m(ClientAppActor pid=17334)\u001b[0m     Epoch 2: loss 0.0335, accuracy 0.6215\n",
            "\u001b[36m(ClientAppActor pid=17334)\u001b[0m   [Client 1@Edge0] Round 3.2 - Training 2 epochs\n",
            "\u001b[36m(ClientAppActor pid=17334)\u001b[0m     Epoch 1: loss 0.0360, accuracy 0.5854\n",
            "\u001b[36m(ClientAppActor pid=17334)\u001b[0m     Epoch 2: loss 0.0335, accuracy 0.6194\n",
            "\u001b[36m(ClientAppActor pid=17334)\u001b[0m [EdgeServer 0] Completed edge round 2\n",
            "\u001b[36m(ClientAppActor pid=17334)\u001b[0m [EdgeServer 0] Completed all edge rounds, sending to global server\n",
            "\u001b[36m(ClientAppActor pid=17334)\u001b[0m \n",
            "\u001b[36m(ClientAppActor pid=17334)\u001b[0m 🏢 Creating Edge Server 1\n",
            "\u001b[36m(ClientAppActor pid=17334)\u001b[0m   📱 Creating Client 2 for Edge Server 1\n",
            "\u001b[36m(ClientAppActor pid=17334)\u001b[0m   📱 Creating Client 3 for Edge Server 1\n",
            "\u001b[36m(ClientAppActor pid=17334)\u001b[0m [EdgeServer 1] Global Round 3 - Running 2 edge rounds\n",
            "\u001b[36m(ClientAppActor pid=17334)\u001b[0m [EdgeServer 1] Edge Round 1/2\n",
            "\u001b[36m(ClientAppActor pid=17334)\u001b[0m   [Client 2@Edge1] Round 3.1 - Training 2 epochs\n",
            "\u001b[36m(ClientAppActor pid=17334)\u001b[0m     Epoch 1: loss 0.0391, accuracy 0.5478\n",
            "\u001b[36m(ClientAppActor pid=17334)\u001b[0m     Epoch 2: loss 0.0365, accuracy 0.5829\n",
            "\u001b[36m(ClientAppActor pid=17334)\u001b[0m   [Client 3@Edge1] Round 3.1 - Training 2 epochs\n",
            "\u001b[36m(ClientAppActor pid=17334)\u001b[0m     Epoch 1: loss 0.0391, accuracy 0.5565\n",
            "\u001b[36m(ClientAppActor pid=17334)\u001b[0m     Epoch 2: loss 0.0362, accuracy 0.5848\n",
            "\u001b[36m(ClientAppActor pid=17334)\u001b[0m [EdgeServer 1] Completed edge round 1\n",
            "\u001b[36m(ClientAppActor pid=17334)\u001b[0m [EdgeServer 1] Edge Round 2/2\n",
            "\u001b[36m(ClientAppActor pid=17334)\u001b[0m   [Client 2@Edge1] Round 3.2 - Training 2 epochs\n",
            "\u001b[36m(ClientAppActor pid=17334)\u001b[0m     Epoch 1: loss 0.0361, accuracy 0.5881\n",
            "\u001b[36m(ClientAppActor pid=17334)\u001b[0m     Epoch 2: loss 0.0331, accuracy 0.6261\n",
            "\u001b[36m(ClientAppActor pid=17334)\u001b[0m   [Client 3@Edge1] Round 3.2 - Training 2 epochs\n",
            "\u001b[36m(ClientAppActor pid=17334)\u001b[0m     Epoch 1: loss 0.0360, accuracy 0.5837\n"
          ]
        },
        {
          "output_type": "stream",
          "name": "stderr",
          "text": [
            "\u001b[92mINFO \u001b[0m:      aggregate_fit: received 2 results and 0 failures\n"
          ]
        },
        {
          "output_type": "stream",
          "name": "stdout",
          "text": [
            "\n",
            "🌐 [Global Server] Round 3: Aggregating 2 edge servers\n",
            "🏢 Edge Server 0: 20000 examples from 2 clients (2 edge rounds)\n",
            "🏢 Edge Server 1: 20000 examples from 2 clients (2 edge rounds)\n",
            "\u001b[36m(ClientAppActor pid=17334)\u001b[0m     Epoch 2: loss 0.0331, accuracy 0.6170\n",
            "\u001b[36m(ClientAppActor pid=17334)\u001b[0m [EdgeServer 1] Completed edge round 2\n",
            "\u001b[36m(ClientAppActor pid=17334)\u001b[0m [EdgeServer 1] Completed all edge rounds, sending to global server\n",
            "🌐 [Global Server] Aggregated 2 edge servers\n",
            "📊 Total examples: 40000\n"
          ]
        },
        {
          "output_type": "stream",
          "name": "stderr",
          "text": [
            "\u001b[92mINFO \u001b[0m:      fit progress: (3, 0.03656037617921829, {'accuracy': 0.5827}, 469.44491239299987)\n",
            "\u001b[92mINFO \u001b[0m:      configure_evaluate: strategy sampled 2 clients (out of 2)\n"
          ]
        },
        {
          "output_type": "stream",
          "name": "stdout",
          "text": [
            "🌐 [Global Server] Round 3 - Global Test: loss 0.0366, accuracy 0.5827\n",
            "\u001b[36m(ClientAppActor pid=17334)\u001b[0m \n",
            "\u001b[36m(ClientAppActor pid=17334)\u001b[0m 🏢 Creating Edge Server 0\n",
            "\u001b[36m(ClientAppActor pid=17334)\u001b[0m   📱 Creating Client 0 for Edge Server 0\n",
            "\u001b[36m(ClientAppActor pid=17334)\u001b[0m   📱 Creating Client 1 for Edge Server 0\n",
            "\u001b[36m(ClientAppActor pid=17334)\u001b[0m [EdgeServer 0] Evaluating edge model\n",
            "\u001b[36m(ClientAppActor pid=17334)\u001b[0m \n",
            "\u001b[36m(ClientAppActor pid=17334)\u001b[0m 🏢 Creating Edge Server 1\n",
            "\u001b[36m(ClientAppActor pid=17334)\u001b[0m   📱 Creating Client 2 for Edge Server 1\n",
            "\u001b[36m(ClientAppActor pid=17334)\u001b[0m   📱 Creating Client 3 for Edge Server 1\n",
            "\u001b[36m(ClientAppActor pid=17334)\u001b[0m [EdgeServer 1] Evaluating edge model\n"
          ]
        },
        {
          "output_type": "stream",
          "name": "stderr",
          "text": [
            "\u001b[92mINFO \u001b[0m:      aggregate_evaluate: received 2 results and 0 failures\n",
            "\u001b[92mINFO \u001b[0m:      \n",
            "\u001b[92mINFO \u001b[0m:      [SUMMARY]\n",
            "\u001b[92mINFO \u001b[0m:      Run finished 3 round(s) in 480.78s\n",
            "\u001b[92mINFO \u001b[0m:      \tHistory (loss, distributed):\n",
            "\u001b[92mINFO \u001b[0m:      \t\tround 1: 0.046551330369710923\n",
            "\u001b[92mINFO \u001b[0m:      \t\tround 2: 0.03960153959989548\n",
            "\u001b[92mINFO \u001b[0m:      \t\tround 3: 0.03694470154047012\n",
            "\u001b[92mINFO \u001b[0m:      \tHistory (loss, centralized):\n",
            "\u001b[92mINFO \u001b[0m:      \t\tround 0: 0.07214174342155456\n",
            "\u001b[92mINFO \u001b[0m:      \t\tround 1: 0.04608696926236153\n",
            "\u001b[92mINFO \u001b[0m:      \t\tround 2: 0.03914911552071571\n",
            "\u001b[92mINFO \u001b[0m:      \t\tround 3: 0.03656037617921829\n",
            "\u001b[92mINFO \u001b[0m:      \tHistory (metrics, distributed, fit):\n",
            "\u001b[92mINFO \u001b[0m:      \t{'edge_server_ids': [(1, [0, 1]), (2, [1, 0]), (3, [0, 1])],\n",
            "\u001b[92mINFO \u001b[0m:      \t 'participating_edge_servers': [(1, 2), (2, 2), (3, 2)],\n",
            "\u001b[92mINFO \u001b[0m:      \t 'total_examples': [(1, 40000), (2, 40000), (3, 40000)]}\n",
            "\u001b[92mINFO \u001b[0m:      \tHistory (metrics, centralized):\n",
            "\u001b[92mINFO \u001b[0m:      \t{'accuracy': [(0, 0.1), (1, 0.4669), (2, 0.5466), (3, 0.5827)]}\n",
            "\u001b[92mINFO \u001b[0m:      \n"
          ]
        }
      ]
    }
  ],
  "metadata": {
    "colab": {
      "provenance": []
    },
    "kernelspec": {
      "display_name": "Python 3",
      "name": "python3"
    },
    "language_info": {
      "name": "python"
    }
  },
  "nbformat": 4,
  "nbformat_minor": 0
}